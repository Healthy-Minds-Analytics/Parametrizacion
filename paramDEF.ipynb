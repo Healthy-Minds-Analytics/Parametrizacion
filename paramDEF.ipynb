{
 "cells": [
  {
   "cell_type": "code",
   "execution_count": 1,
   "id": "bf5ebaa2-d0fa-4258-9ffc-0d2ff4f724ab",
   "metadata": {},
   "outputs": [
    {
     "name": "stdout",
     "output_type": "stream",
     "text": [
      "Requirement already satisfied: pandas in /opt/anaconda3/lib/python3.12/site-packages (2.2.2)\n",
      "Requirement already satisfied: numpy>=1.26.0 in /opt/anaconda3/lib/python3.12/site-packages (from pandas) (1.26.4)\n",
      "Requirement already satisfied: python-dateutil>=2.8.2 in /opt/anaconda3/lib/python3.12/site-packages (from pandas) (2.9.0.post0)\n",
      "Requirement already satisfied: pytz>=2020.1 in /opt/anaconda3/lib/python3.12/site-packages (from pandas) (2024.1)\n",
      "Requirement already satisfied: tzdata>=2022.7 in /opt/anaconda3/lib/python3.12/site-packages (from pandas) (2023.3)\n",
      "Requirement already satisfied: six>=1.5 in /opt/anaconda3/lib/python3.12/site-packages (from python-dateutil>=2.8.2->pandas) (1.16.0)\n"
     ]
    }
   ],
   "source": [
    "!pip install pandas"
   ]
  },
  {
   "cell_type": "code",
   "execution_count": 2,
   "id": "e8d95c5f-5672-487c-b493-9549916d7b20",
   "metadata": {},
   "outputs": [
    {
     "name": "stdout",
     "output_type": "stream",
     "text": [
      "Requirement already satisfied: openpyxl in /opt/anaconda3/lib/python3.12/site-packages (3.1.5)\n",
      "Requirement already satisfied: et-xmlfile in /opt/anaconda3/lib/python3.12/site-packages (from openpyxl) (1.1.0)\n"
     ]
    }
   ],
   "source": [
    "!pip install openpyxl"
   ]
  },
  {
   "cell_type": "code",
   "execution_count": 3,
   "id": "d423ce4f-9b7e-4c61-86da-adc25bac850a",
   "metadata": {},
   "outputs": [
    {
     "name": "stdout",
     "output_type": "stream",
     "text": [
      "Requirement already satisfied: ipywidgets in /opt/anaconda3/lib/python3.12/site-packages (8.1.5)\n",
      "Requirement already satisfied: comm>=0.1.3 in /opt/anaconda3/lib/python3.12/site-packages (from ipywidgets) (0.2.1)\n",
      "Requirement already satisfied: ipython>=6.1.0 in /opt/anaconda3/lib/python3.12/site-packages (from ipywidgets) (8.27.0)\n",
      "Requirement already satisfied: traitlets>=4.3.1 in /opt/anaconda3/lib/python3.12/site-packages (from ipywidgets) (5.14.3)\n",
      "Requirement already satisfied: widgetsnbextension~=4.0.12 in /opt/anaconda3/lib/python3.12/site-packages (from ipywidgets) (4.0.13)\n",
      "Requirement already satisfied: jupyterlab-widgets~=3.0.12 in /opt/anaconda3/lib/python3.12/site-packages (from ipywidgets) (3.0.13)\n",
      "Requirement already satisfied: decorator in /opt/anaconda3/lib/python3.12/site-packages (from ipython>=6.1.0->ipywidgets) (5.1.1)\n",
      "Requirement already satisfied: jedi>=0.16 in /opt/anaconda3/lib/python3.12/site-packages (from ipython>=6.1.0->ipywidgets) (0.19.1)\n",
      "Requirement already satisfied: matplotlib-inline in /opt/anaconda3/lib/python3.12/site-packages (from ipython>=6.1.0->ipywidgets) (0.1.6)\n",
      "Requirement already satisfied: prompt-toolkit<3.1.0,>=3.0.41 in /opt/anaconda3/lib/python3.12/site-packages (from ipython>=6.1.0->ipywidgets) (3.0.43)\n",
      "Requirement already satisfied: pygments>=2.4.0 in /opt/anaconda3/lib/python3.12/site-packages (from ipython>=6.1.0->ipywidgets) (2.15.1)\n",
      "Requirement already satisfied: stack-data in /opt/anaconda3/lib/python3.12/site-packages (from ipython>=6.1.0->ipywidgets) (0.2.0)\n",
      "Requirement already satisfied: pexpect>4.3 in /opt/anaconda3/lib/python3.12/site-packages (from ipython>=6.1.0->ipywidgets) (4.8.0)\n",
      "Requirement already satisfied: parso<0.9.0,>=0.8.3 in /opt/anaconda3/lib/python3.12/site-packages (from jedi>=0.16->ipython>=6.1.0->ipywidgets) (0.8.3)\n",
      "Requirement already satisfied: ptyprocess>=0.5 in /opt/anaconda3/lib/python3.12/site-packages (from pexpect>4.3->ipython>=6.1.0->ipywidgets) (0.7.0)\n",
      "Requirement already satisfied: wcwidth in /opt/anaconda3/lib/python3.12/site-packages (from prompt-toolkit<3.1.0,>=3.0.41->ipython>=6.1.0->ipywidgets) (0.2.5)\n",
      "Requirement already satisfied: executing in /opt/anaconda3/lib/python3.12/site-packages (from stack-data->ipython>=6.1.0->ipywidgets) (0.8.3)\n",
      "Requirement already satisfied: asttokens in /opt/anaconda3/lib/python3.12/site-packages (from stack-data->ipython>=6.1.0->ipywidgets) (2.0.5)\n",
      "Requirement already satisfied: pure-eval in /opt/anaconda3/lib/python3.12/site-packages (from stack-data->ipython>=6.1.0->ipywidgets) (0.2.2)\n",
      "Requirement already satisfied: six in /opt/anaconda3/lib/python3.12/site-packages (from asttokens->stack-data->ipython>=6.1.0->ipywidgets) (1.16.0)\n"
     ]
    }
   ],
   "source": [
    "!pip install ipywidgets"
   ]
  },
  {
   "cell_type": "code",
   "execution_count": 4,
   "id": "106d80ff-71ed-4f7f-80e9-d9be7ba6a887",
   "metadata": {},
   "outputs": [
    {
     "name": "stdout",
     "output_type": "stream",
     "text": [
      "Requirement already satisfied: IPython in /opt/anaconda3/lib/python3.12/site-packages (8.27.0)\n",
      "Requirement already satisfied: decorator in /opt/anaconda3/lib/python3.12/site-packages (from IPython) (5.1.1)\n",
      "Requirement already satisfied: jedi>=0.16 in /opt/anaconda3/lib/python3.12/site-packages (from IPython) (0.19.1)\n",
      "Requirement already satisfied: matplotlib-inline in /opt/anaconda3/lib/python3.12/site-packages (from IPython) (0.1.6)\n",
      "Requirement already satisfied: prompt-toolkit<3.1.0,>=3.0.41 in /opt/anaconda3/lib/python3.12/site-packages (from IPython) (3.0.43)\n",
      "Requirement already satisfied: pygments>=2.4.0 in /opt/anaconda3/lib/python3.12/site-packages (from IPython) (2.15.1)\n",
      "Requirement already satisfied: stack-data in /opt/anaconda3/lib/python3.12/site-packages (from IPython) (0.2.0)\n",
      "Requirement already satisfied: traitlets>=5.13.0 in /opt/anaconda3/lib/python3.12/site-packages (from IPython) (5.14.3)\n",
      "Requirement already satisfied: pexpect>4.3 in /opt/anaconda3/lib/python3.12/site-packages (from IPython) (4.8.0)\n",
      "Requirement already satisfied: parso<0.9.0,>=0.8.3 in /opt/anaconda3/lib/python3.12/site-packages (from jedi>=0.16->IPython) (0.8.3)\n",
      "Requirement already satisfied: ptyprocess>=0.5 in /opt/anaconda3/lib/python3.12/site-packages (from pexpect>4.3->IPython) (0.7.0)\n",
      "Requirement already satisfied: wcwidth in /opt/anaconda3/lib/python3.12/site-packages (from prompt-toolkit<3.1.0,>=3.0.41->IPython) (0.2.5)\n",
      "Requirement already satisfied: executing in /opt/anaconda3/lib/python3.12/site-packages (from stack-data->IPython) (0.8.3)\n",
      "Requirement already satisfied: asttokens in /opt/anaconda3/lib/python3.12/site-packages (from stack-data->IPython) (2.0.5)\n",
      "Requirement already satisfied: pure-eval in /opt/anaconda3/lib/python3.12/site-packages (from stack-data->IPython) (0.2.2)\n",
      "Requirement already satisfied: six in /opt/anaconda3/lib/python3.12/site-packages (from asttokens->stack-data->IPython) (1.16.0)\n"
     ]
    }
   ],
   "source": [
    "!pip install IPython"
   ]
  },
  {
   "cell_type": "code",
   "execution_count": 5,
   "id": "a46dbf5f-532b-4dea-afee-26a2a205305d",
   "metadata": {},
   "outputs": [
    {
     "data": {
      "application/vnd.jupyter.widget-view+json": {
       "model_id": "1ac5887b2f3240aa86dcb2a05d546a71",
       "version_major": 2,
       "version_minor": 0
      },
      "text/plain": [
       "HTML(value='<h3>📋 Sube tu archivo Excel para organizar puestos y sugerir unificaciones:</h3>')"
      ]
     },
     "metadata": {},
     "output_type": "display_data"
    },
    {
     "data": {
      "application/vnd.jupyter.widget-view+json": {
       "model_id": "13cc6cb19ec744668d3588ffeb28bba7",
       "version_major": 2,
       "version_minor": 0
      },
      "text/plain": [
       "FileUpload(value=(), accept='.xlsx, .xltx', description='Upload')"
      ]
     },
     "metadata": {},
     "output_type": "display_data"
    },
    {
     "data": {
      "application/vnd.jupyter.widget-view+json": {
       "model_id": "95ce880cee4547a6b72ac66e28da67ee",
       "version_major": 2,
       "version_minor": 0
      },
      "text/plain": [
       "Output()"
      ]
     },
     "metadata": {},
     "output_type": "display_data"
    }
   ],
   "source": [
    "import pandas as pd\n",
    "import ipywidgets as widgets\n",
    "from IPython.display import display\n",
    "from io import BytesIO\n",
    "import base64\n",
    "\n",
    "# Carga el archivo\n",
    "uploader = widgets.FileUpload(accept='.xlsx, .xltx', multiple=False)\n",
    "display(widgets.HTML(\"<h3>📋 Sube tu archivo Excel para organizar puestos y sugerir unificaciones:</h3>\"))\n",
    "display(uploader)\n",
    "\n",
    "output = widgets.Output()\n",
    "display(output)\n",
    "\n",
    "def encontrar_fila_encabezados(df_raw):\n",
    "    for i, row in df_raw.iterrows():\n",
    "        encabezados = [str(c).strip().upper() for c in row.values]\n",
    "        if \"CENTRO DE TRABAJO\" in encabezados and \"DEPARTAMENTO\" in encabezados and \"PUESTO DE TRABAJO\" in encabezados:\n",
    "            return i\n",
    "    return None\n",
    "\n",
    "def crear_boton_descarga(nombre_archivo):\n",
    "    with open(nombre_archivo, \"rb\") as f:\n",
    "        data = f.read()\n",
    "    b64 = base64.b64encode(data).decode()\n",
    "    enlace_html = f\"\"\"\n",
    "    <a download=\"{nombre_archivo}\" href=\"data:application/vnd.openxmlformats-officedocument.spreadsheetml.sheet;base64,{b64}\" target=\"_blank\">\n",
    "        📥 Descargar archivo generado\n",
    "    </a>\n",
    "    \"\"\"\n",
    "    return widgets.HTML(enlace_html)\n",
    "\n",
    "def procesar_archivo(change):\n",
    "    output.clear_output()\n",
    "    with output:\n",
    "        if uploader.value:\n",
    "            try:\n",
    "                uploaded_file = next(iter(uploader.value.values())) if isinstance(uploader.value, dict) else uploader.value[0]\n",
    "                content = BytesIO(uploaded_file['content'])\n",
    "                df_raw = pd.read_excel(content, sheet_name=0, header=None)\n",
    "\n",
    "                fila_encabezados = encontrar_fila_encabezados(df_raw)\n",
    "                if fila_encabezados is None:\n",
    "                    print(\"❌ No se encontraron las columnas necesarias.\")\n",
    "                    return\n",
    "\n",
    "                content.seek(0)\n",
    "                df = pd.read_excel(content, sheet_name=0, header=fila_encabezados)\n",
    "\n",
    "                # Detectar nombres de columnas\n",
    "                def match_column(nombre, columnas):\n",
    "                    for c in columnas:\n",
    "                        if nombre in str(c).strip().upper():\n",
    "                            return c\n",
    "                    return None\n",
    "\n",
    "                col_centro = match_column(\"CENTRO DE TRABAJO\", df.columns)\n",
    "                col_dep = match_column(\"DEPARTAMENTO\", df.columns)\n",
    "                col_puesto = match_column(\"PUESTO DE TRABAJO\", df.columns)\n",
    "\n",
    "                if not col_centro or not col_dep or not col_puesto:\n",
    "                    print(\"❌ No se pudieron localizar todas las columnas clave.\")\n",
    "                    return\n",
    "\n",
    "                df_filtrado = df[[col_centro, col_dep, col_puesto]].dropna()\n",
    "\n",
    "                # Agrupar y contar personas por puesto\n",
    "                df_agrupado = (\n",
    "                    df_filtrado\n",
    "                    .groupby([col_centro, col_dep, col_puesto])\n",
    "                    .size()\n",
    "                    .reset_index(name=\"NÚMERO DE PERSONAS\")\n",
    "                    .sort_values(by=[col_centro, col_dep, col_puesto])\n",
    "                )\n",
    "\n",
    "                # Añadir advertencias y sugerencias\n",
    "                advertencias = []\n",
    "                sugerencias = []\n",
    "\n",
    "                for i, row in df_agrupado.iterrows():\n",
    "                    centro = row[col_centro]\n",
    "                    depto = row[col_dep]\n",
    "                    puesto = row[col_puesto]\n",
    "                    cantidad = row[\"NÚMERO DE PERSONAS\"]\n",
    "\n",
    "                    if cantidad > 2:\n",
    "                        advertencias.append(\"\")\n",
    "                        sugerencias.append(\"\")\n",
    "                        continue\n",
    "\n",
    "                    advertencias.append(\"⚠️ Bajo número de personas\")\n",
    "\n",
    "                    # Buscar otro puesto similar en el mismo departamento\n",
    "                    similares = df_agrupado[\n",
    "                        (df_agrupado[col_centro] == centro) &\n",
    "                        (df_agrupado[col_dep] == depto) &\n",
    "                        (df_agrupado[col_puesto] != puesto) &\n",
    "                        (df_agrupado[\"NÚMERO DE PERSONAS\"] > 3)\n",
    "                    ]\n",
    "\n",
    "                    if not similares.empty:\n",
    "                        sugerencias.append(f\"Unificar con: {similares.iloc[0][col_puesto]}\")\n",
    "                    else:\n",
    "                        similares_centro = df_agrupado[\n",
    "                            (df_agrupado[col_centro] == centro) &\n",
    "                            (df_agrupado[col_puesto] != puesto) &\n",
    "                            (df_agrupado[\"NÚMERO DE PERSONAS\"] > 3)\n",
    "                        ]\n",
    "                        if not similares_centro.empty:\n",
    "                            sugerencias.append(f\"Unificar con: {similares_centro.iloc[0][col_puesto]}\")\n",
    "                        else:\n",
    "                            sugerencias.append(\"Unificar con otro puesto del centro\")\n",
    "\n",
    "                # Agregar columnas al dataframe\n",
    "                df_agrupado[\"ADVERTENCIA\"] = advertencias\n",
    "                df_agrupado[\"PROPUESTA DE UNIFICACIÓN\"] = sugerencias\n",
    "\n",
    "                # Fila total\n",
    "                total_personas = df_agrupado[\"NÚMERO DE PERSONAS\"].sum()\n",
    "                fila_total = pd.DataFrame({\n",
    "                    col_centro: [\"TOTAL\"],\n",
    "                    col_dep: [\"\"],\n",
    "                    col_puesto: [\"\"],\n",
    "                    \"NÚMERO DE PERSONAS\": [total_personas],\n",
    "                    \"ADVERTENCIA\": [\"\"],\n",
    "                    \"PROPUESTA DE UNIFICACIÓN\": [\"\"]\n",
    "                })\n",
    "\n",
    "                df_final = pd.concat([df_agrupado, fila_total], ignore_index=True)\n",
    "\n",
    "                print(\"✅ Archivo procesado correctamente:\")\n",
    "                display(df_final)\n",
    "\n",
    "                # Guardar a Excel\n",
    "                nombre_archivo = \"puestos_ordenados_por_centro.xlsx\"\n",
    "                with pd.ExcelWriter(nombre_archivo, engine=\"openpyxl\") as writer:\n",
    "                    df.to_excel(writer, sheet_name=\"Original\", index=False)\n",
    "                    df_final.to_excel(writer, sheet_name=\"Resumen Puestos\", index=False)\n",
    "\n",
    "                # Mostrar botón de descarga\n",
    "                display(crear_boton_descarga(nombre_archivo))\n",
    "\n",
    "            except Exception as e:\n",
    "                print(\"❌ Error al procesar el archivo:\", e)\n",
    "\n",
    "# Asociar evento al uploader\n",
    "uploader.observe(procesar_archivo, names='value')"
   ]
  }
 ],
 "metadata": {
  "kernelspec": {
   "display_name": "Python [conda env:base] *",
   "language": "python",
   "name": "conda-base-py"
  },
  "language_info": {
   "codemirror_mode": {
    "name": "ipython",
    "version": 3
   },
   "file_extension": ".py",
   "mimetype": "text/x-python",
   "name": "python",
   "nbconvert_exporter": "python",
   "pygments_lexer": "ipython3",
   "version": "3.12.7"
  }
 },
 "nbformat": 4,
 "nbformat_minor": 5
}
